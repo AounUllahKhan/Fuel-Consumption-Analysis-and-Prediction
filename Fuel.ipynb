{
 "cells": [
  {
   "cell_type": "code",
   "execution_count": 26,
   "id": "a29690fc",
   "metadata": {},
   "outputs": [],
   "source": [
    "import pandas as pd"
   ]
  },
  {
   "cell_type": "code",
   "execution_count": 27,
   "id": "0d491940",
   "metadata": {},
   "outputs": [],
   "source": [
    "df=pd.read_csv(\"Fuel_Consumption_2000-2022.csv\")"
   ]
  },
  {
   "cell_type": "code",
   "execution_count": 28,
   "id": "d98c8053",
   "metadata": {},
   "outputs": [
    {
     "data": {
      "text/html": [
       "<div>\n",
       "<style scoped>\n",
       "    .dataframe tbody tr th:only-of-type {\n",
       "        vertical-align: middle;\n",
       "    }\n",
       "\n",
       "    .dataframe tbody tr th {\n",
       "        vertical-align: top;\n",
       "    }\n",
       "\n",
       "    .dataframe thead th {\n",
       "        text-align: right;\n",
       "    }\n",
       "</style>\n",
       "<table border=\"1\" class=\"dataframe\">\n",
       "  <thead>\n",
       "    <tr style=\"text-align: right;\">\n",
       "      <th></th>\n",
       "      <th>YEAR</th>\n",
       "      <th>MAKE</th>\n",
       "      <th>MODEL</th>\n",
       "      <th>VEHICLE CLASS</th>\n",
       "      <th>ENGINE SIZE</th>\n",
       "      <th>CYLINDERS</th>\n",
       "      <th>TRANSMISSION</th>\n",
       "      <th>FUEL</th>\n",
       "      <th>FUEL CONSUMPTION</th>\n",
       "      <th>HWY (L/100 km)</th>\n",
       "      <th>COMB (L/100 km)</th>\n",
       "      <th>COMB (mpg)</th>\n",
       "      <th>EMISSIONS</th>\n",
       "    </tr>\n",
       "  </thead>\n",
       "  <tbody>\n",
       "    <tr>\n",
       "      <th>0</th>\n",
       "      <td>2000</td>\n",
       "      <td>ACURA</td>\n",
       "      <td>1.6EL</td>\n",
       "      <td>COMPACT</td>\n",
       "      <td>1.6</td>\n",
       "      <td>4</td>\n",
       "      <td>A4</td>\n",
       "      <td>X</td>\n",
       "      <td>9.2</td>\n",
       "      <td>6.7</td>\n",
       "      <td>8.1</td>\n",
       "      <td>35</td>\n",
       "      <td>186</td>\n",
       "    </tr>\n",
       "    <tr>\n",
       "      <th>1</th>\n",
       "      <td>2000</td>\n",
       "      <td>ACURA</td>\n",
       "      <td>1.6EL</td>\n",
       "      <td>COMPACT</td>\n",
       "      <td>1.6</td>\n",
       "      <td>4</td>\n",
       "      <td>M5</td>\n",
       "      <td>X</td>\n",
       "      <td>8.5</td>\n",
       "      <td>6.5</td>\n",
       "      <td>7.6</td>\n",
       "      <td>37</td>\n",
       "      <td>175</td>\n",
       "    </tr>\n",
       "    <tr>\n",
       "      <th>2</th>\n",
       "      <td>2000</td>\n",
       "      <td>ACURA</td>\n",
       "      <td>3.2TL</td>\n",
       "      <td>MID-SIZE</td>\n",
       "      <td>3.2</td>\n",
       "      <td>6</td>\n",
       "      <td>AS5</td>\n",
       "      <td>Z</td>\n",
       "      <td>12.2</td>\n",
       "      <td>7.4</td>\n",
       "      <td>10.0</td>\n",
       "      <td>28</td>\n",
       "      <td>230</td>\n",
       "    </tr>\n",
       "    <tr>\n",
       "      <th>3</th>\n",
       "      <td>2000</td>\n",
       "      <td>ACURA</td>\n",
       "      <td>3.5RL</td>\n",
       "      <td>MID-SIZE</td>\n",
       "      <td>3.5</td>\n",
       "      <td>6</td>\n",
       "      <td>A4</td>\n",
       "      <td>Z</td>\n",
       "      <td>13.4</td>\n",
       "      <td>9.2</td>\n",
       "      <td>11.5</td>\n",
       "      <td>25</td>\n",
       "      <td>264</td>\n",
       "    </tr>\n",
       "    <tr>\n",
       "      <th>4</th>\n",
       "      <td>2000</td>\n",
       "      <td>ACURA</td>\n",
       "      <td>INTEGRA</td>\n",
       "      <td>SUBCOMPACT</td>\n",
       "      <td>1.8</td>\n",
       "      <td>4</td>\n",
       "      <td>A4</td>\n",
       "      <td>X</td>\n",
       "      <td>10.0</td>\n",
       "      <td>7.0</td>\n",
       "      <td>8.6</td>\n",
       "      <td>33</td>\n",
       "      <td>198</td>\n",
       "    </tr>\n",
       "  </tbody>\n",
       "</table>\n",
       "</div>"
      ],
      "text/plain": [
       "   YEAR   MAKE    MODEL VEHICLE CLASS  ENGINE SIZE  CYLINDERS TRANSMISSION  \\\n",
       "0  2000  ACURA    1.6EL       COMPACT          1.6          4           A4   \n",
       "1  2000  ACURA    1.6EL       COMPACT          1.6          4           M5   \n",
       "2  2000  ACURA    3.2TL      MID-SIZE          3.2          6          AS5   \n",
       "3  2000  ACURA    3.5RL      MID-SIZE          3.5          6           A4   \n",
       "4  2000  ACURA  INTEGRA    SUBCOMPACT          1.8          4           A4   \n",
       "\n",
       "  FUEL  FUEL CONSUMPTION  HWY (L/100 km)  COMB (L/100 km)  COMB (mpg)  \\\n",
       "0    X               9.2             6.7              8.1          35   \n",
       "1    X               8.5             6.5              7.6          37   \n",
       "2    Z              12.2             7.4             10.0          28   \n",
       "3    Z              13.4             9.2             11.5          25   \n",
       "4    X              10.0             7.0              8.6          33   \n",
       "\n",
       "   EMISSIONS  \n",
       "0        186  \n",
       "1        175  \n",
       "2        230  \n",
       "3        264  \n",
       "4        198  "
      ]
     },
     "execution_count": 28,
     "metadata": {},
     "output_type": "execute_result"
    }
   ],
   "source": [
    "df.head()"
   ]
  },
  {
   "cell_type": "code",
   "execution_count": 29,
   "id": "60f80d0b",
   "metadata": {},
   "outputs": [
    {
     "data": {
      "text/plain": [
       "Index(['YEAR', 'MAKE', 'MODEL', 'VEHICLE CLASS', 'ENGINE SIZE', 'CYLINDERS',\n",
       "       'TRANSMISSION', 'FUEL', 'FUEL CONSUMPTION', 'HWY (L/100 km)',\n",
       "       'COMB (L/100 km)', 'COMB (mpg)', 'EMISSIONS'],\n",
       "      dtype='object')"
      ]
     },
     "execution_count": 29,
     "metadata": {},
     "output_type": "execute_result"
    }
   ],
   "source": [
    "df.columns"
   ]
  },
  {
   "cell_type": "code",
   "execution_count": 30,
   "id": "1229dbea",
   "metadata": {},
   "outputs": [
    {
     "data": {
      "text/plain": [
       "YEAR                0\n",
       "MAKE                0\n",
       "MODEL               0\n",
       "VEHICLE CLASS       0\n",
       "ENGINE SIZE         0\n",
       "CYLINDERS           0\n",
       "TRANSMISSION        0\n",
       "FUEL                0\n",
       "FUEL CONSUMPTION    0\n",
       "HWY (L/100 km)      0\n",
       "COMB (L/100 km)     0\n",
       "COMB (mpg)          0\n",
       "EMISSIONS           0\n",
       "dtype: int64"
      ]
     },
     "execution_count": 30,
     "metadata": {},
     "output_type": "execute_result"
    }
   ],
   "source": [
    "df.isna().sum()"
   ]
  },
  {
   "cell_type": "code",
   "execution_count": 31,
   "id": "b49f6f44",
   "metadata": {},
   "outputs": [
    {
     "data": {
      "text/plain": [
       "0        186\n",
       "1        175\n",
       "2        230\n",
       "3        264\n",
       "4        198\n",
       "        ... \n",
       "22551    219\n",
       "22552    219\n",
       "22553    232\n",
       "22554    236\n",
       "22555    252\n",
       "Name: EMISSIONS, Length: 22556, dtype: int64"
      ]
     },
     "execution_count": 31,
     "metadata": {},
     "output_type": "execute_result"
    }
   ],
   "source": [
    "df.EMISSIONS"
   ]
  },
  {
   "cell_type": "code",
   "execution_count": 32,
   "id": "215a3375",
   "metadata": {},
   "outputs": [
    {
     "name": "stdout",
     "output_type": "stream",
     "text": [
      "<class 'pandas.core.frame.DataFrame'>\n",
      "RangeIndex: 22556 entries, 0 to 22555\n",
      "Data columns (total 13 columns):\n",
      " #   Column            Non-Null Count  Dtype  \n",
      "---  ------            --------------  -----  \n",
      " 0   YEAR              22556 non-null  int64  \n",
      " 1   MAKE              22556 non-null  object \n",
      " 2   MODEL             22556 non-null  object \n",
      " 3   VEHICLE CLASS     22556 non-null  object \n",
      " 4   ENGINE SIZE       22556 non-null  float64\n",
      " 5   CYLINDERS         22556 non-null  int64  \n",
      " 6   TRANSMISSION      22556 non-null  object \n",
      " 7   FUEL              22556 non-null  object \n",
      " 8   FUEL CONSUMPTION  22556 non-null  float64\n",
      " 9   HWY (L/100 km)    22556 non-null  float64\n",
      " 10  COMB (L/100 km)   22556 non-null  float64\n",
      " 11  COMB (mpg)        22556 non-null  int64  \n",
      " 12  EMISSIONS         22556 non-null  int64  \n",
      "dtypes: float64(4), int64(4), object(5)\n",
      "memory usage: 2.2+ MB\n"
     ]
    }
   ],
   "source": [
    "df.info()"
   ]
  },
  {
   "cell_type": "code",
   "execution_count": 33,
   "id": "ab8be2b4",
   "metadata": {},
   "outputs": [
    {
     "data": {
      "text/plain": [
       "0        ACURA\n",
       "1        ACURA\n",
       "2        ACURA\n",
       "3        ACURA\n",
       "4        ACURA\n",
       "         ...  \n",
       "22551    Volvo\n",
       "22552    Volvo\n",
       "22553    Volvo\n",
       "22554    Volvo\n",
       "22555    Volvo\n",
       "Name: MAKE, Length: 22556, dtype: object"
      ]
     },
     "execution_count": 33,
     "metadata": {},
     "output_type": "execute_result"
    }
   ],
   "source": [
    "df.MAKE"
   ]
  },
  {
   "cell_type": "code",
   "execution_count": 34,
   "id": "09caf02b",
   "metadata": {},
   "outputs": [
    {
     "data": {
      "text/plain": [
       "0        ACURA\n",
       "1        ACURA\n",
       "2        ACURA\n",
       "3        ACURA\n",
       "4        ACURA\n",
       "         ...  \n",
       "22551    Volvo\n",
       "22552    Volvo\n",
       "22553    Volvo\n",
       "22554    Volvo\n",
       "22555    Volvo\n",
       "Name: MAKE, Length: 22556, dtype: object"
      ]
     },
     "execution_count": 34,
     "metadata": {},
     "output_type": "execute_result"
    }
   ],
   "source": [
    "df.MAKE"
   ]
  },
  {
   "cell_type": "code",
   "execution_count": 35,
   "id": "4da482a4",
   "metadata": {},
   "outputs": [
    {
     "data": {
      "text/plain": [
       "22487"
      ]
     },
     "execution_count": 35,
     "metadata": {},
     "output_type": "execute_result"
    }
   ],
   "source": [
    "a=df.MAKE!=\"Volvo\"\n",
    "a.sum()"
   ]
  },
  {
   "cell_type": "code",
   "execution_count": 36,
   "id": "ba32b57c",
   "metadata": {},
   "outputs": [
    {
     "data": {
      "text/plain": [
       "22506        Toyota\n",
       "22507        Toyota\n",
       "22508        Toyota\n",
       "22509        Toyota\n",
       "22510        Toyota\n",
       "22511        Toyota\n",
       "22512        Toyota\n",
       "22513        Toyota\n",
       "22514        Toyota\n",
       "22515        Toyota\n",
       "22516        Toyota\n",
       "22517        Toyota\n",
       "22518        Toyota\n",
       "22519        Toyota\n",
       "22520        Toyota\n",
       "22521        Toyota\n",
       "22522        Toyota\n",
       "22523        Toyota\n",
       "22524        Toyota\n",
       "22525        Toyota\n",
       "22526        Toyota\n",
       "22527    Volkswagen\n",
       "22528    Volkswagen\n",
       "22529    Volkswagen\n",
       "22530    Volkswagen\n",
       "22531    Volkswagen\n",
       "22532    Volkswagen\n",
       "22533    Volkswagen\n",
       "22534    Volkswagen\n",
       "22535    Volkswagen\n",
       "22536    Volkswagen\n",
       "22537    Volkswagen\n",
       "22538    Volkswagen\n",
       "22539    Volkswagen\n",
       "22540    Volkswagen\n",
       "22541    Volkswagen\n",
       "22542    Volkswagen\n",
       "22543    Volkswagen\n",
       "22544         Volvo\n",
       "22545         Volvo\n",
       "22546         Volvo\n",
       "22547         Volvo\n",
       "22548         Volvo\n",
       "22549         Volvo\n",
       "22550         Volvo\n",
       "22551         Volvo\n",
       "22552         Volvo\n",
       "22553         Volvo\n",
       "22554         Volvo\n",
       "22555         Volvo\n",
       "Name: MAKE, dtype: object"
      ]
     },
     "execution_count": 36,
     "metadata": {},
     "output_type": "execute_result"
    }
   ],
   "source": [
    "df.MAKE.tail(50)"
   ]
  },
  {
   "cell_type": "code",
   "execution_count": 37,
   "id": "e421d6e0",
   "metadata": {},
   "outputs": [
    {
     "data": {
      "text/plain": [
       "YEAR                False\n",
       "MAKE                 True\n",
       "MODEL                True\n",
       "VEHICLE CLASS        True\n",
       "ENGINE SIZE         False\n",
       "CYLINDERS           False\n",
       "TRANSMISSION         True\n",
       "FUEL                 True\n",
       "FUEL CONSUMPTION    False\n",
       "HWY (L/100 km)      False\n",
       "COMB (L/100 km)     False\n",
       "COMB (mpg)          False\n",
       "EMISSIONS           False\n",
       "dtype: bool"
      ]
     },
     "execution_count": 37,
     "metadata": {},
     "output_type": "execute_result"
    }
   ],
   "source": [
    "df.dtypes==\"object\""
   ]
  },
  {
   "cell_type": "code",
   "execution_count": 38,
   "id": "c8b660a0",
   "metadata": {},
   "outputs": [],
   "source": [
    "from sklearn.preprocessing import LabelEncoder"
   ]
  },
  {
   "cell_type": "code",
   "execution_count": 39,
   "id": "71e0c91f",
   "metadata": {},
   "outputs": [
    {
     "name": "stdout",
     "output_type": "stream",
     "text": [
      "['ACURA' 'ALFA ROMEO' 'ASTON MARTIN' 'AUDI' 'Acura' 'Alfa Romeo'\n",
      " 'Aston Martin' 'Audi' 'BENTLEY' 'BMW' 'BUGATTI' 'BUICK' 'Bentley'\n",
      " 'Bugatti' 'Buick' 'CADILLAC' 'CHEVROLET' 'CHRYSLER' 'Cadillac'\n",
      " 'Chevrolet' 'Chrysler' 'DAEWOO' 'DODGE' 'Dodge' 'FERRARI' 'FIAT' 'FORD'\n",
      " 'Ford' 'GENESIS' 'GMC' 'Genesis' 'HONDA' 'HUMMER' 'HYUNDAI' 'Honda'\n",
      " 'Hyundai' 'INFINITI' 'ISUZU' 'Infiniti' 'JAGUAR' 'JEEP' 'Jaguar' 'Jeep'\n",
      " 'KIA' 'Kia' 'LAMBORGHINI' 'LAND ROVER' 'LEXUS' 'LINCOLN' 'Lamborghini'\n",
      " 'Land Rover' 'Lexus' 'Lincoln' 'MASERATI' 'MAZDA' 'MERCEDES-BENZ' 'MINI'\n",
      " 'MITSUBISHI' 'Maserati' 'Mazda' 'Mercedes-Benz' 'Mitsubishi' 'NISSAN'\n",
      " 'Nissan' 'OLDSMOBILE' 'PLYMOUTH' 'PONTIAC' 'PORSCHE' 'Porsche' 'RAM'\n",
      " 'ROLLS-ROYCE' 'Ram' 'Rolls-Royce' 'SAAB' 'SATURN' 'SCION' 'SMART' 'SRT'\n",
      " 'SUBARU' 'SUZUKI' 'Subaru' 'TOYOTA' 'Toyota' 'VOLKSWAGEN' 'VOLVO'\n",
      " 'Volkswagen' 'Volvo']\n",
      "['1 SERIES M COUPE' '1.6EL' '1.7EL' ... 'tC' 'xB' 'xD']\n",
      "['COMPACT' 'Compact' 'FULL-SIZE' 'Full-size' 'MID-SIZE' 'MINICOMPACT'\n",
      " 'MINIVAN' 'Mid-size' 'Minicompact' 'Minivan' 'PICKUP TRUCK - SMALL'\n",
      " 'PICKUP TRUCK - STANDARD' 'Pickup truck: Small' 'Pickup truck: Standard'\n",
      " 'SPECIAL PURPOSE VEHICLE' 'STATION WAGON - MID-SIZE'\n",
      " 'STATION WAGON - SMALL' 'SUBCOMPACT' 'SUV' 'SUV - SMALL' 'SUV - STANDARD'\n",
      " 'SUV: Small' 'SUV: Standard' 'Special purpose vehicle'\n",
      " 'Station wagon: Mid-size' 'Station wagon: Small' 'Subcompact'\n",
      " 'TWO-SEATER' 'Two-seater' 'VAN - CARGO' 'VAN - PASSENGER'\n",
      " 'Van: Passenger']\n",
      "['A10' 'A3' 'A4' 'A5' 'A6' 'A7' 'A8' 'A9' 'AM5' 'AM6' 'AM7' 'AM8' 'AM9'\n",
      " 'AS10' 'AS4' 'AS5' 'AS6' 'AS7' 'AS8' 'AS9' 'AV' 'AV1' 'AV10' 'AV6' 'AV7'\n",
      " 'AV8' 'M4' 'M5' 'M6' 'M7']\n",
      "['D' 'E' 'N' 'X' 'Z']\n"
     ]
    }
   ],
   "source": [
    "le=LabelEncoder()\n",
    "cols=[\"MAKE\",\"MODEL\",\"VEHICLE CLASS\",\"TRANSMISSION\",\"FUEL\"]\n",
    "for col in cols:\n",
    "    df[col]=le.fit_transform(df[col])\n",
    "    \n",
    "    print(le.classes_)"
   ]
  },
  {
   "cell_type": "code",
   "execution_count": 40,
   "id": "e6c45982",
   "metadata": {},
   "outputs": [
    {
     "data": {
      "text/html": [
       "<div>\n",
       "<style scoped>\n",
       "    .dataframe tbody tr th:only-of-type {\n",
       "        vertical-align: middle;\n",
       "    }\n",
       "\n",
       "    .dataframe tbody tr th {\n",
       "        vertical-align: top;\n",
       "    }\n",
       "\n",
       "    .dataframe thead th {\n",
       "        text-align: right;\n",
       "    }\n",
       "</style>\n",
       "<table border=\"1\" class=\"dataframe\">\n",
       "  <thead>\n",
       "    <tr style=\"text-align: right;\">\n",
       "      <th></th>\n",
       "      <th>YEAR</th>\n",
       "      <th>MAKE</th>\n",
       "      <th>MODEL</th>\n",
       "      <th>VEHICLE CLASS</th>\n",
       "      <th>ENGINE SIZE</th>\n",
       "      <th>CYLINDERS</th>\n",
       "      <th>TRANSMISSION</th>\n",
       "      <th>FUEL</th>\n",
       "      <th>FUEL CONSUMPTION</th>\n",
       "      <th>HWY (L/100 km)</th>\n",
       "      <th>COMB (L/100 km)</th>\n",
       "      <th>COMB (mpg)</th>\n",
       "      <th>EMISSIONS</th>\n",
       "    </tr>\n",
       "  </thead>\n",
       "  <tbody>\n",
       "    <tr>\n",
       "      <th>0</th>\n",
       "      <td>2000</td>\n",
       "      <td>0</td>\n",
       "      <td>1</td>\n",
       "      <td>0</td>\n",
       "      <td>1.6</td>\n",
       "      <td>4</td>\n",
       "      <td>2</td>\n",
       "      <td>3</td>\n",
       "      <td>9.2</td>\n",
       "      <td>6.7</td>\n",
       "      <td>8.1</td>\n",
       "      <td>35</td>\n",
       "      <td>186</td>\n",
       "    </tr>\n",
       "    <tr>\n",
       "      <th>1</th>\n",
       "      <td>2000</td>\n",
       "      <td>0</td>\n",
       "      <td>1</td>\n",
       "      <td>0</td>\n",
       "      <td>1.6</td>\n",
       "      <td>4</td>\n",
       "      <td>27</td>\n",
       "      <td>3</td>\n",
       "      <td>8.5</td>\n",
       "      <td>6.5</td>\n",
       "      <td>7.6</td>\n",
       "      <td>37</td>\n",
       "      <td>175</td>\n",
       "    </tr>\n",
       "    <tr>\n",
       "      <th>2</th>\n",
       "      <td>2000</td>\n",
       "      <td>0</td>\n",
       "      <td>61</td>\n",
       "      <td>4</td>\n",
       "      <td>3.2</td>\n",
       "      <td>6</td>\n",
       "      <td>15</td>\n",
       "      <td>4</td>\n",
       "      <td>12.2</td>\n",
       "      <td>7.4</td>\n",
       "      <td>10.0</td>\n",
       "      <td>28</td>\n",
       "      <td>230</td>\n",
       "    </tr>\n",
       "    <tr>\n",
       "      <th>3</th>\n",
       "      <td>2000</td>\n",
       "      <td>0</td>\n",
       "      <td>62</td>\n",
       "      <td>4</td>\n",
       "      <td>3.5</td>\n",
       "      <td>6</td>\n",
       "      <td>2</td>\n",
       "      <td>4</td>\n",
       "      <td>13.4</td>\n",
       "      <td>9.2</td>\n",
       "      <td>11.5</td>\n",
       "      <td>25</td>\n",
       "      <td>264</td>\n",
       "    </tr>\n",
       "    <tr>\n",
       "      <th>4</th>\n",
       "      <td>2000</td>\n",
       "      <td>0</td>\n",
       "      <td>2173</td>\n",
       "      <td>17</td>\n",
       "      <td>1.8</td>\n",
       "      <td>4</td>\n",
       "      <td>2</td>\n",
       "      <td>3</td>\n",
       "      <td>10.0</td>\n",
       "      <td>7.0</td>\n",
       "      <td>8.6</td>\n",
       "      <td>33</td>\n",
       "      <td>198</td>\n",
       "    </tr>\n",
       "  </tbody>\n",
       "</table>\n",
       "</div>"
      ],
      "text/plain": [
       "   YEAR  MAKE  MODEL  VEHICLE CLASS  ENGINE SIZE  CYLINDERS  TRANSMISSION  \\\n",
       "0  2000     0      1              0          1.6          4             2   \n",
       "1  2000     0      1              0          1.6          4            27   \n",
       "2  2000     0     61              4          3.2          6            15   \n",
       "3  2000     0     62              4          3.5          6             2   \n",
       "4  2000     0   2173             17          1.8          4             2   \n",
       "\n",
       "   FUEL  FUEL CONSUMPTION  HWY (L/100 km)  COMB (L/100 km)  COMB (mpg)  \\\n",
       "0     3               9.2             6.7              8.1          35   \n",
       "1     3               8.5             6.5              7.6          37   \n",
       "2     4              12.2             7.4             10.0          28   \n",
       "3     4              13.4             9.2             11.5          25   \n",
       "4     3              10.0             7.0              8.6          33   \n",
       "\n",
       "   EMISSIONS  \n",
       "0        186  \n",
       "1        175  \n",
       "2        230  \n",
       "3        264  \n",
       "4        198  "
      ]
     },
     "execution_count": 40,
     "metadata": {},
     "output_type": "execute_result"
    }
   ],
   "source": [
    "df.head()"
   ]
  },
  {
   "cell_type": "code",
   "execution_count": 41,
   "id": "87e185d3",
   "metadata": {},
   "outputs": [
    {
     "data": {
      "text/plain": [
       "YEAR                  int64\n",
       "MAKE                  int32\n",
       "MODEL                 int32\n",
       "VEHICLE CLASS         int32\n",
       "ENGINE SIZE         float64\n",
       "CYLINDERS             int64\n",
       "TRANSMISSION          int32\n",
       "FUEL                  int32\n",
       "FUEL CONSUMPTION    float64\n",
       "HWY (L/100 km)      float64\n",
       "COMB (L/100 km)     float64\n",
       "COMB (mpg)            int64\n",
       "EMISSIONS             int64\n",
       "dtype: object"
      ]
     },
     "execution_count": 41,
     "metadata": {},
     "output_type": "execute_result"
    }
   ],
   "source": [
    "df.dtypes"
   ]
  },
  {
   "cell_type": "code",
   "execution_count": 42,
   "id": "667879c1",
   "metadata": {},
   "outputs": [],
   "source": [
    "X=df.drop(\"FUEL CONSUMPTION\",axis=1)\n",
    "Y=df[\"FUEL CONSUMPTION\"]"
   ]
  },
  {
   "cell_type": "code",
   "execution_count": 43,
   "id": "69270d75",
   "metadata": {},
   "outputs": [],
   "source": [
    "import matplotlib.pyplot as plt\n",
    "%matplotlib inline"
   ]
  },
  {
   "cell_type": "code",
   "execution_count": 44,
   "id": "d0c8c71f",
   "metadata": {},
   "outputs": [],
   "source": [
    "from sklearn.model_selection import train_test_split"
   ]
  },
  {
   "cell_type": "code",
   "execution_count": 45,
   "id": "5fd5ff5f",
   "metadata": {},
   "outputs": [],
   "source": [
    "X_train,X_valid,y_train,y_valid=train_test_split(X,Y)"
   ]
  },
  {
   "cell_type": "code",
   "execution_count": 46,
   "id": "1cb014b2",
   "metadata": {},
   "outputs": [
    {
     "data": {
      "text/html": [
       "<div>\n",
       "<style scoped>\n",
       "    .dataframe tbody tr th:only-of-type {\n",
       "        vertical-align: middle;\n",
       "    }\n",
       "\n",
       "    .dataframe tbody tr th {\n",
       "        vertical-align: top;\n",
       "    }\n",
       "\n",
       "    .dataframe thead th {\n",
       "        text-align: right;\n",
       "    }\n",
       "</style>\n",
       "<table border=\"1\" class=\"dataframe\">\n",
       "  <thead>\n",
       "    <tr style=\"text-align: right;\">\n",
       "      <th></th>\n",
       "      <th>YEAR</th>\n",
       "      <th>MAKE</th>\n",
       "      <th>MODEL</th>\n",
       "      <th>VEHICLE CLASS</th>\n",
       "      <th>ENGINE SIZE</th>\n",
       "      <th>CYLINDERS</th>\n",
       "      <th>TRANSMISSION</th>\n",
       "      <th>FUEL</th>\n",
       "      <th>HWY (L/100 km)</th>\n",
       "      <th>COMB (L/100 km)</th>\n",
       "      <th>COMB (mpg)</th>\n",
       "      <th>EMISSIONS</th>\n",
       "    </tr>\n",
       "  </thead>\n",
       "  <tbody>\n",
       "    <tr>\n",
       "      <th>14677</th>\n",
       "      <td>2015</td>\n",
       "      <td>26</td>\n",
       "      <td>1817</td>\n",
       "      <td>4</td>\n",
       "      <td>2.0</td>\n",
       "      <td>4</td>\n",
       "      <td>16</td>\n",
       "      <td>3</td>\n",
       "      <td>7.0</td>\n",
       "      <td>8.9</td>\n",
       "      <td>32</td>\n",
       "      <td>205</td>\n",
       "    </tr>\n",
       "    <tr>\n",
       "      <th>19286</th>\n",
       "      <td>2019</td>\n",
       "      <td>52</td>\n",
       "      <td>2574</td>\n",
       "      <td>21</td>\n",
       "      <td>2.0</td>\n",
       "      <td>4</td>\n",
       "      <td>16</td>\n",
       "      <td>3</td>\n",
       "      <td>9.3</td>\n",
       "      <td>11.0</td>\n",
       "      <td>26</td>\n",
       "      <td>257</td>\n",
       "    </tr>\n",
       "    <tr>\n",
       "      <th>17108</th>\n",
       "      <td>2017</td>\n",
       "      <td>43</td>\n",
       "      <td>1793</td>\n",
       "      <td>2</td>\n",
       "      <td>2.0</td>\n",
       "      <td>4</td>\n",
       "      <td>28</td>\n",
       "      <td>3</td>\n",
       "      <td>7.3</td>\n",
       "      <td>8.7</td>\n",
       "      <td>32</td>\n",
       "      <td>204</td>\n",
       "    </tr>\n",
       "    <tr>\n",
       "      <th>14868</th>\n",
       "      <td>2015</td>\n",
       "      <td>40</td>\n",
       "      <td>1998</td>\n",
       "      <td>20</td>\n",
       "      <td>6.4</td>\n",
       "      <td>8</td>\n",
       "      <td>6</td>\n",
       "      <td>4</td>\n",
       "      <td>12.6</td>\n",
       "      <td>15.8</td>\n",
       "      <td>18</td>\n",
       "      <td>363</td>\n",
       "    </tr>\n",
       "    <tr>\n",
       "      <th>8349</th>\n",
       "      <td>2009</td>\n",
       "      <td>29</td>\n",
       "      <td>3390</td>\n",
       "      <td>11</td>\n",
       "      <td>5.3</td>\n",
       "      <td>8</td>\n",
       "      <td>2</td>\n",
       "      <td>1</td>\n",
       "      <td>14.6</td>\n",
       "      <td>17.8</td>\n",
       "      <td>16</td>\n",
       "      <td>285</td>\n",
       "    </tr>\n",
       "  </tbody>\n",
       "</table>\n",
       "</div>"
      ],
      "text/plain": [
       "       YEAR  MAKE  MODEL  VEHICLE CLASS  ENGINE SIZE  CYLINDERS  TRANSMISSION  \\\n",
       "14677  2015    26   1817              4          2.0          4            16   \n",
       "19286  2019    52   2574             21          2.0          4            16   \n",
       "17108  2017    43   1793              2          2.0          4            28   \n",
       "14868  2015    40   1998             20          6.4          8             6   \n",
       "8349   2009    29   3390             11          5.3          8             2   \n",
       "\n",
       "       FUEL  HWY (L/100 km)  COMB (L/100 km)  COMB (mpg)  EMISSIONS  \n",
       "14677     3             7.0              8.9          32        205  \n",
       "19286     3             9.3             11.0          26        257  \n",
       "17108     3             7.3              8.7          32        204  \n",
       "14868     4            12.6             15.8          18        363  \n",
       "8349      1            14.6             17.8          16        285  "
      ]
     },
     "execution_count": 46,
     "metadata": {},
     "output_type": "execute_result"
    }
   ],
   "source": [
    "X_train.head()"
   ]
  },
  {
   "cell_type": "code",
   "execution_count": 47,
   "id": "9e69f73a",
   "metadata": {},
   "outputs": [
    {
     "data": {
      "text/plain": [
       "Index(['YEAR', 'MAKE', 'MODEL', 'VEHICLE CLASS', 'ENGINE SIZE', 'CYLINDERS',\n",
       "       'TRANSMISSION', 'FUEL', 'HWY (L/100 km)', 'COMB (L/100 km)',\n",
       "       'COMB (mpg)', 'EMISSIONS'],\n",
       "      dtype='object')"
      ]
     },
     "execution_count": 47,
     "metadata": {},
     "output_type": "execute_result"
    }
   ],
   "source": [
    "X_train.columns"
   ]
  },
  {
   "cell_type": "code",
   "execution_count": 48,
   "id": "1cf62a8c",
   "metadata": {},
   "outputs": [],
   "source": [
    "import seaborn as sns"
   ]
  },
  {
   "cell_type": "code",
   "execution_count": 49,
   "id": "ede9761e",
   "metadata": {},
   "outputs": [
    {
     "data": {
      "text/plain": [
       "<Figure size 1008x432 with 0 Axes>"
      ]
     },
     "execution_count": 49,
     "metadata": {},
     "output_type": "execute_result"
    },
    {
     "data": {
      "image/png": "[encoded data removed]",
      "text/plain": [
       "<Figure size 432x288 with 1 Axes>"
      ]
     },
     "metadata": {
      "needs_background": "light"
     },
     "output_type": "display_data"
    },
    {
     "data": {
      "text/plain": [
       "<Figure size 1008x432 with 0 Axes>"
      ]
     },
     "metadata": {},
     "output_type": "display_data"
    }
   ],
   "source": [
    "sns.lineplot(data=X_train)\n",
    "plt.figure(figsize=(14,6))"
   ]
  },
  {
   "cell_type": "code",
   "execution_count": 51,
   "id": "2134c7b2",
   "metadata": {
    "scrolled": true
   },
   "outputs": [
    {
     "data": {
      "text/plain": [
       "<Figure size 1440x720 with 0 Axes>"
      ]
     },
     "execution_count": 51,
     "metadata": {},
     "output_type": "execute_result"
    },
    {
     "data": {
      "image/png": "[encoded data removed]",
      "text/plain": [
       "<Figure size 432x288 with 1 Axes>"
      ]
     },
     "metadata": {
      "needs_background": "light"
     },
     "output_type": "display_data"
    },
    {
     "data": {
      "text/plain": [
       "<Figure size 1440x720 with 0 Axes>"
      ]
     },
     "metadata": {},
     "output_type": "display_data"
    }
   ],
   "source": [
    "sns.histplot(X_train)\n",
    "plt.figure(figsize=(20,10))"
   ]
  },
  {
   "cell_type": "code",
   "execution_count": 54,
   "id": "2a5b2842",
   "metadata": {},
   "outputs": [
    {
     "name": "stdout",
     "output_type": "stream",
     "text": [
      "Collecting xgboostNote: you may need to restart the kernel to use updated packages.\n",
      "\n",
      "  Downloading xgboost-1.7.3-py3-none-win_amd64.whl (89.1 MB)\n",
      "     ---------------------------------------- 89.1/89.1 MB ? eta 0:00:00\n",
      "Requirement already satisfied: numpy in c:\\users\\aoun\\appdata\\local\\programs\\python\\python39\\lib\\site-packages (from xgboost) (1.22.2)\n",
      "Requirement already satisfied: scipy in c:\\users\\aoun\\appdata\\local\\programs\\python\\python39\\lib\\site-packages (from xgboost) (1.9.1)\n",
      "Installing collected packages: xgboost\n",
      "Successfully installed xgboost-1.7.3\n"
     ]
    },
    {
     "name": "stderr",
     "output_type": "stream",
     "text": [
      "\n",
      "[notice] A new release of pip available: 22.3.1 -> 23.0\n",
      "[notice] To update, run: python.exe -m pip install --upgrade pip\n"
     ]
    }
   ],
   "source": [
    "pip install xgboost"
   ]
  },
  {
   "cell_type": "code",
   "execution_count": 56,
   "id": "0fec0aad",
   "metadata": {},
   "outputs": [],
   "source": [
    "from xgboost import XGBRegressor"
   ]
  },
  {
   "cell_type": "code",
   "execution_count": 60,
   "id": "fc97bfff",
   "metadata": {},
   "outputs": [
    {
     "data": {
      "text/html": [
       "<style>#sk-container-id-2 {color: black;background-color: white;}#sk-container-id-2 pre{padding: 0;}#sk-container-id-2 div.sk-toggleable {background-color: white;}#sk-container-id-2 label.sk-toggleable__label {cursor: pointer;display: block;width: 100%;margin-bottom: 0;padding: 0.3em;box-sizing: border-box;text-align: center;}#sk-container-id-2 label.sk-toggleable__label-arrow:before {content: \"▸\";float: left;margin-right: 0.25em;color: #696969;}#sk-container-id-2 label.sk-toggleable__label-arrow:hover:before {color: black;}#sk-container-id-2 div.sk-estimator:hover label.sk-toggleable__label-arrow:before {color: black;}#sk-container-id-2 div.sk-toggleable__content {max-height: 0;max-width: 0;overflow: hidden;text-align: left;background-color: #f0f8ff;}#sk-container-id-2 div.sk-toggleable__content pre {margin: 0.2em;color: black;border-radius: 0.25em;background-color: #f0f8ff;}#sk-container-id-2 input.sk-toggleable__control:checked~div.sk-toggleable__content {max-height: 200px;max-width: 100%;overflow: auto;}#sk-container-id-2 input.sk-toggleable__control:checked~label.sk-toggleable__label-arrow:before {content: \"▾\";}#sk-container-id-2 div.sk-estimator input.sk-toggleable__control:checked~label.sk-toggleable__label {background-color: #d4ebff;}#sk-container-id-2 div.sk-label input.sk-toggleable__control:checked~label.sk-toggleable__label {background-color: #d4ebff;}#sk-container-id-2 input.sk-hidden--visually {border: 0;clip: rect(1px 1px 1px 1px);clip: rect(1px, 1px, 1px, 1px);height: 1px;margin: -1px;overflow: hidden;padding: 0;position: absolute;width: 1px;}#sk-container-id-2 div.sk-estimator {font-family: monospace;background-color: #f0f8ff;border: 1px dotted black;border-radius: 0.25em;box-sizing: border-box;margin-bottom: 0.5em;}#sk-container-id-2 div.sk-estimator:hover {background-color: #d4ebff;}#sk-container-id-2 div.sk-parallel-item::after {content: \"\";width: 100%;border-bottom: 1px solid gray;flex-grow: 1;}#sk-container-id-2 div.sk-label:hover label.sk-toggleable__label {background-color: #d4ebff;}#sk-container-id-2 div.sk-serial::before {content: \"\";position: absolute;border-left: 1px solid gray;box-sizing: border-box;top: 0;bottom: 0;left: 50%;z-index: 0;}#sk-container-id-2 div.sk-serial {display: flex;flex-direction: column;align-items: center;background-color: white;padding-right: 0.2em;padding-left: 0.2em;position: relative;}#sk-container-id-2 div.sk-item {position: relative;z-index: 1;}#sk-container-id-2 div.sk-parallel {display: flex;align-items: stretch;justify-content: center;background-color: white;position: relative;}#sk-container-id-2 div.sk-item::before, #sk-container-id-2 div.sk-parallel-item::before {content: \"\";position: absolute;border-left: 1px solid gray;box-sizing: border-box;top: 0;bottom: 0;left: 50%;z-index: -1;}#sk-container-id-2 div.sk-parallel-item {display: flex;flex-direction: column;z-index: 1;position: relative;background-color: white;}#sk-container-id-2 div.sk-parallel-item:first-child::after {align-self: flex-end;width: 50%;}#sk-container-id-2 div.sk-parallel-item:last-child::after {align-self: flex-start;width: 50%;}#sk-container-id-2 div.sk-parallel-item:only-child::after {width: 0;}#sk-container-id-2 div.sk-dashed-wrapped {border: 1px dashed gray;margin: 0 0.4em 0.5em 0.4em;box-sizing: border-box;padding-bottom: 0.4em;background-color: white;}#sk-container-id-2 div.sk-label label {font-family: monospace;font-weight: bold;display: inline-block;line-height: 1.2em;}#sk-container-id-2 div.sk-label-container {text-align: center;}#sk-container-id-2 div.sk-container {/* jupyter's `normalize.less` sets `[hidden] { display: none; }` but bootstrap.min.css set `[hidden] { display: none !important; }` so we also need the `!important` here to be able to override the default hidden behavior on the sphinx rendered scikit-learn.org. See: https://github.com/scikit-learn/scikit-learn/issues/21755 */display: inline-block !important;position: relative;}#sk-container-id-2 div.sk-text-repr-fallback {display: none;}</style><div id=\"sk-container-id-2\" class=\"sk-top-container\"><div class=\"sk-text-repr-fallback\"><pre>XGBRegressor(base_score=None, booster=None, callbacks=None,\n",
       "             colsample_bylevel=None, colsample_bynode=None,\n",
       "             colsample_bytree=None, early_stopping_rounds=None,\n",
       "             enable_categorical=False, eval_metric=None, feature_types=None,\n",
       "             gamma=None, gpu_id=None, grow_policy=None, importance_type=None,\n",
       "             interaction_constraints=None, learning_rate=None, max_bin=None,\n",
       "             max_cat_threshold=None, max_cat_to_onehot=None,\n",
       "             max_delta_step=None, max_depth=None, max_leaves=None,\n",
       "             min_child_weight=None, missing=nan, monotone_constraints=None,\n",
       "             n_estimators=500, n_jobs=None, num_parallel_tree=None,\n",
       "             predictor=None, random_state=None, ...)</pre><b>In a Jupyter environment, please rerun this cell to show the HTML representation or trust the notebook. <br />On GitHub, the HTML representation is unable to render, please try loading this page with nbviewer.org.</b></div><div class=\"sk-container\" hidden><div class=\"sk-item\"><div class=\"sk-estimator sk-toggleable\"><input class=\"sk-toggleable__control sk-hidden--visually\" id=\"sk-estimator-id-2\" type=\"checkbox\" checked><label for=\"sk-estimator-id-2\" class=\"sk-toggleable__label sk-toggleable__label-arrow\">XGBRegressor</label><div class=\"sk-toggleable__content\"><pre>XGBRegressor(base_score=None, booster=None, callbacks=None,\n",
       "             colsample_bylevel=None, colsample_bynode=None,\n",
       "             colsample_bytree=None, early_stopping_rounds=None,\n",
       "             enable_categorical=False, eval_metric=None, feature_types=None,\n",
       "             gamma=None, gpu_id=None, grow_policy=None, importance_type=None,\n",
       "             interaction_constraints=None, learning_rate=None, max_bin=None,\n",
       "             max_cat_threshold=None, max_cat_to_onehot=None,\n",
       "             max_delta_step=None, max_depth=None, max_leaves=None,\n",
       "             min_child_weight=None, missing=nan, monotone_constraints=None,\n",
       "             n_estimators=500, n_jobs=None, num_parallel_tree=None,\n",
       "             predictor=None, random_state=None, ...)</pre></div></div></div></div></div>"
      ],
      "text/plain": [
       "XGBRegressor(base_score=None, booster=None, callbacks=None,\n",
       "             colsample_bylevel=None, colsample_bynode=None,\n",
       "             colsample_bytree=None, early_stopping_rounds=None,\n",
       "             enable_categorical=False, eval_metric=None, feature_types=None,\n",
       "             gamma=None, gpu_id=None, grow_policy=None, importance_type=None,\n",
       "             interaction_constraints=None, learning_rate=None, max_bin=None,\n",
       "             max_cat_threshold=None, max_cat_to_onehot=None,\n",
       "             max_delta_step=None, max_depth=None, max_leaves=None,\n",
       "             min_child_weight=None, missing=nan, monotone_constraints=None,\n",
       "             n_estimators=500, n_jobs=None, num_parallel_tree=None,\n",
       "             predictor=None, random_state=None, ...)"
      ]
     },
     "execution_count": 60,
     "metadata": {},
     "output_type": "execute_result"
    }
   ],
   "source": [
    "model=XGBRegressor(n_estimators=500)\n",
    "model.fit(X_train,y_train)"
   ]
  },
  {
   "cell_type": "code",
   "execution_count": 64,
   "id": "19351c4a",
   "metadata": {},
   "outputs": [],
   "source": [
    "pre=model.predict(X_valid)"
   ]
  },
  {
   "cell_type": "code",
   "execution_count": 68,
   "id": "a890b7a5",
   "metadata": {},
   "outputs": [],
   "source": [
    "from sklearn.metrics import mean_absolute_error"
   ]
  },
  {
   "cell_type": "code",
   "execution_count": 69,
   "id": "9cb03e37",
   "metadata": {},
   "outputs": [
    {
     "data": {
      "text/plain": [
       "0.04295632463331066"
      ]
     },
     "execution_count": 69,
     "metadata": {},
     "output_type": "execute_result"
    }
   ],
   "source": [
    "mean_absolute_error(y_valid,pre)"
   ]
  },
  {
   "cell_type": "code",
   "execution_count": null,
   "id": "2f335ebc",
   "metadata": {},
   "outputs": [],
   "source": []
  }
 ],
 "metadata": {
  "kernelspec": {
   "display_name": "Python 3 (ipykernel)",
   "language": "python",
   "name": "python3"
  },
  "language_info": {
   "codemirror_mode": {
    "name": "ipython",
    "version": 3
   },
   "file_extension": ".py",
   "mimetype": "text/x-python",
   "name": "python",
   "nbconvert_exporter": "python",
   "pygments_lexer": "ipython3",
   "version": "3.9.6"
  }
 },
 "nbformat": 4,
 "nbformat_minor": 5
}
